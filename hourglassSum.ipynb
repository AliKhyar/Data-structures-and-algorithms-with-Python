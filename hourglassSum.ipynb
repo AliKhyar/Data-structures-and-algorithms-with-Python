{
  "nbformat": 4,
  "nbformat_minor": 0,
  "metadata": {
    "colab": {
      "name": "hourglassSum.ipynb",
      "provenance": [],
      "authorship_tag": "ABX9TyNjjZImGWxurY4cTBxZZFbT",
      "include_colab_link": true
    },
    "kernelspec": {
      "name": "python3",
      "display_name": "Python 3"
    }
  },
  "cells": [
    {
      "cell_type": "markdown",
      "metadata": {
        "id": "view-in-github",
        "colab_type": "text"
      },
      "source": [
        "<a href=\"https://colab.research.google.com/github/AliKhyar/Data-structures-and-algorithms-with-Python/blob/master/hourglassSum.ipynb\" target=\"_parent\"><img src=\"https://colab.research.google.com/assets/colab-badge.svg\" alt=\"Open In Colab\"/></a>"
      ]
    },
    {
      "cell_type": "code",
      "metadata": {
        "id": "nUXgL2itdgJK",
        "colab_type": "code",
        "colab": {
          "base_uri": "https://localhost:8080/",
          "height": 34
        },
        "outputId": "c5c6600e-5bb5-499f-cdda-b4e7d50467d2"
      },
      "source": [
        "def hourglass_sum(arr):\n",
        "  return sum(arr[0])+sum(arr[2])+arr[1][1]\n",
        "\n",
        "def slice_arr(start_l, start_c):\n",
        "  return [arr[start_l][start_c:start_c+3], arr[start_l+1][start_c:start_c+3], arr[start_l+2][start_c:start_c+3]]\n",
        "\n",
        "def main(arr):\n",
        "\n",
        "    max_arr = hourglass_sum(slice_arr(0,0))\n",
        "    for i in range(4):\n",
        "        sum_arr1 = hourglass_sum(slice_arr(i,0))\n",
        "        sum_arr2 = hourglass_sum(slice_arr(i,1))\n",
        "        sum_arr3 = hourglass_sum(slice_arr(i,2))\n",
        "        sum_arr4 = hourglass_sum(slice_arr(i,3))\n",
        "        if max(sum_arr1, sum_arr2, sum_arr3, sum_arr4) > max_arr:\n",
        "            max_arr = max(sum_arr1, sum_arr2, sum_arr3, sum_arr4)\n",
        "    print(max_arr)\n",
        "\n",
        "if __name__ == '__main__':\n",
        "    arr = [[1 ,1, 1, 0, 0, 0],\n",
        "          [0, 1, 0, 0, 0, 0],\n",
        "          [1, 1, 1, 0, 0, 0],\n",
        "          [0,0, 2, 4, 4, 0],\n",
        "          [0, 0, 0, 2, 0, 0],\n",
        "          [0, 0, 1, 2, 4, 0]]\n",
        "\n",
        "    main(arr)\n",
        "\n"
      ],
      "execution_count": 68,
      "outputs": [
        {
          "output_type": "stream",
          "text": [
            "19\n"
          ],
          "name": "stdout"
        }
      ]
    }
  ]
}