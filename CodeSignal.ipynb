{
  "nbformat": 4,
  "nbformat_minor": 0,
  "metadata": {
    "colab": {
      "name": "CodeSignal.ipynb",
      "provenance": [],
      "authorship_tag": "ABX9TyO5yBZ+AOb+6e2J2OP6aLB7",
      "include_colab_link": true
    },
    "kernelspec": {
      "name": "python3",
      "display_name": "Python 3"
    }
  },
  "cells": [
    {
      "cell_type": "markdown",
      "metadata": {
        "id": "view-in-github",
        "colab_type": "text"
      },
      "source": [
        "<a href=\"https://colab.research.google.com/github/AliKhyar/Data-structures-and-algorithms-with-Python/blob/master/CodeSignal.ipynb\" target=\"_parent\"><img src=\"https://colab.research.google.com/assets/colab-badge.svg\" alt=\"Open In Colab\"/></a>"
      ]
    },
    {
      "cell_type": "code",
      "metadata": {
        "id": "3vAP2tTE_hes",
        "colab_type": "code",
        "colab": {
          "base_uri": "https://localhost:8080/",
          "height": 34
        },
        "outputId": "7957fb77-c6f8-4d5d-d7eb-1eaf295ffe37"
      },
      "source": [
        "import time\n",
        "start = time.process_time()\n",
        "def centuryFromYear(year):\n",
        "    if str(year)[-2:] == '00':\n",
        "        return int(str(year)[:2])\n",
        "    else:\n",
        "        return int(str(year)[:2]) + 1\n",
        "  \n",
        "\n",
        "#year = int(input())\n",
        "year = 1900\n",
        "centuryFromYear(year)\n",
        "print(time.process_time() - start)\n"
      ],
      "execution_count": 19,
      "outputs": [
        {
          "output_type": "stream",
          "text": [
            "0.00016485399999988104\n"
          ],
          "name": "stdout"
        }
      ]
    },
    {
      "cell_type": "code",
      "metadata": {
        "id": "O-juUXvX_z3t",
        "colab_type": "code",
        "colab": {
          "base_uri": "https://localhost:8080/",
          "height": 34
        },
        "outputId": "ed4417cf-5673-4ee4-93ad-23d5f753b314"
      },
      "source": [
        "import time\n",
        "start = time.process_time()\n",
        "def centuryFromYear(year):\n",
        "    if year%100 == 0 :\n",
        "        return 1524//100\n",
        "    else:\n",
        "        return 1524//100 + 1\n",
        "  \n",
        "#year = int(input())\n",
        "year = 1900\n",
        "\n",
        "centuryFromYear(year)\n",
        "print(time.process_time() - start)"
      ],
      "execution_count": 18,
      "outputs": [
        {
          "output_type": "stream",
          "text": [
            "0.00014729400000002002\n"
          ],
          "name": "stdout"
        }
      ]
    },
    {
      "cell_type": "code",
      "metadata": {
        "id": "kqOJsbZWBuNE",
        "colab_type": "code",
        "colab": {}
      },
      "source": [
        "def adjacentElementsProduct(inputArray):\n",
        "    max_product = inputArray[0] * inputArray[1]\n",
        "    for i in range(1, len(inputArray) - 1):\n",
        "        if inputArray[i] * inputArray[i + 1] > max_product:\n",
        "            max_product = inputArray[i] * inputArray[i + 1]\n",
        "    return max_product\n"
      ],
      "execution_count": 0,
      "outputs": []
    },
    {
      "cell_type": "code",
      "metadata": {
        "id": "qVxSNQulJCHd",
        "colab_type": "code",
        "colab": {
          "base_uri": "https://localhost:8080/",
          "height": 34
        },
        "outputId": "0483873b-e4aa-4cf4-8ac0-ddf9f2cb1bee"
      },
      "source": [
        "def allLongestStrings(inputArray):\n",
        "    max_length = len(max(inputArray, key=len))\n",
        "    to_be_returned = []\n",
        "    for val in inputArray:\n",
        "        if len(val) == max_length:\n",
        "            to_be_returned.append(val)\n",
        "    return to_be_returned\n",
        "arr = [\"enyky\", \n",
        " \"benyky\", \n",
        " \"yely\", \n",
        " \"varennyky\"]\n",
        "\n",
        "print(allLongestStrings(arr))"
      ],
      "execution_count": 27,
      "outputs": [
        {
          "output_type": "stream",
          "text": [
            "['varennyky']\n"
          ],
          "name": "stdout"
        }
      ]
    },
    {
      "cell_type": "code",
      "metadata": {
        "id": "QSRGorJ_JK2L",
        "colab_type": "code",
        "colab": {
          "base_uri": "https://localhost:8080/",
          "height": 34
        },
        "outputId": "6d81dfab-7389-4c72-b6e4-963d3f9f69b9"
      },
      "source": [
        "arr1 = [\"enyky\", \n",
        " \"benyky\", \n",
        " \"yely\", \n",
        " \"varennyky\"]\n",
        "arr2 = [\"enyky\", \n",
        " \"benyky\", \n",
        " \"yely\", \n",
        " \"varennyky\",\"15451\"]\n",
        "max(arr1,arr2, key=len)"
      ],
      "execution_count": 30,
      "outputs": [
        {
          "output_type": "execute_result",
          "data": {
            "text/plain": [
              "['enyky', 'benyky', 'yely', 'varennyky', '15451']"
            ]
          },
          "metadata": {
            "tags": []
          },
          "execution_count": 30
        }
      ]
    },
    {
      "cell_type": "code",
      "metadata": {
        "id": "Dzj3PVv7KCGI",
        "colab_type": "code",
        "colab": {
          "base_uri": "https://localhost:8080/",
          "height": 34
        },
        "outputId": "c097eb1b-e70c-47bd-eee4-7e4ff8d56f2e"
      },
      "source": [
        "def commonCharacterCount(s1, s2):\n",
        "    d1 = dict()\n",
        "    d2 = dict()\n",
        "    for val in s1:\n",
        "        if val not in d1:\n",
        "            d1[val] = 1\n",
        "        else:\n",
        "            d1[val] += 1\n",
        "    for val in s2:\n",
        "        if val not in d2:\n",
        "            d2[val] = 1\n",
        "        else:\n",
        "            d2[val] += 1\n",
        "    # max_d = max(d1, d2, key=len)\n",
        "    # min_d = min(d1, d2,key=len)\n",
        "    # print(max_d)\n",
        "    # print(min_d)\n",
        "    count = 0\n",
        "    for key in d1:\n",
        "        try:\n",
        "            common = min(d1[key], d2[key])\n",
        "            count += common\n",
        "        except:\n",
        "            pass\n",
        "    return count\n",
        "\n",
        "s1 =  \"aabcc\"\n",
        "s2 = \"adcaa\"\n",
        "commonCharacterCount(s1, s2)"
      ],
      "execution_count": 35,
      "outputs": [
        {
          "output_type": "execute_result",
          "data": {
            "text/plain": [
              "3"
            ]
          },
          "metadata": {
            "tags": []
          },
          "execution_count": 35
        }
      ]
    },
    {
      "cell_type": "code",
      "metadata": {
        "id": "ZYidP2SeO6mZ",
        "colab_type": "code",
        "colab": {}
      },
      "source": [
        "def isLucky(n):\n",
        "    s = str(n)\n",
        "    mid = len(s)//2\n",
        "    first_half = sum([int(i) for i in s[:mid]])\n",
        "    second_half = sum([int(i) for i in s[mid:]])\n",
        "    return first_half == second_half"
      ],
      "execution_count": 0,
      "outputs": []
    },
    {
      "cell_type": "code",
      "metadata": {
        "id": "H22QTPnITVLf",
        "colab_type": "code",
        "colab": {}
      },
      "source": [
        "def sortByHeight(a):\n",
        "    non_row = []\n",
        "    for val in a:\n",
        "        if val != -1:\n",
        "            non_row.append(val)\n",
        "    non_row.sort()\n",
        "    j = 0\n",
        "    for i in range(len(a)):\n",
        "        if a[i] != -1:\n",
        "            a[i] = non_row[j]\n",
        "            j += 1\n",
        "    return a\n",
        "            "
      ],
      "execution_count": 0,
      "outputs": []
    },
    {
      "cell_type": "code",
      "metadata": {
        "id": "ELaV3IS6TWMK",
        "colab_type": "code",
        "colab": {
          "base_uri": "https://localhost:8080/",
          "height": 34
        },
        "outputId": "fdaa9fd8-d9ed-4355-9914-1e9e20027879"
      },
      "source": [
        "# def reverseInParentheses(inputString):\n",
        "#     stack = Stack()\n",
        "#     s = ''\n",
        "#     for i in range(1,len(inputString)+1):\n",
        "#         if inputString[-i] != ')':\n",
        "#             stack.push(inputString[-i])\n",
        "#         elif:\n",
        "def reverseInParentheses(s):\n",
        "    chars = list(s)\n",
        "    open_bracket_indexes = []\n",
        "    for i, c in enumerate(chars):\n",
        "        if c == '(':\n",
        "            open_bracket_indexes.append(i)\n",
        "            #print('open_bracket_indexes: ',open_bracket_indexes)\n",
        "        elif c == ')':\n",
        "            j = open_bracket_indexes.pop()\n",
        "            #print('Chars: ', chars[j:i],'   ',chars[i:j:-1])\n",
        "            chars[j:i] = chars[i:j:-1]\n",
        "    return ''.join(c for c in chars if c not in '()')\n",
        "\n",
        "\n",
        "inputString = \"foo(bar(baz))blim\"\n",
        "#\"foobazrabblim\"\n",
        "reverseInParentheses(inputString)\n"
      ],
      "execution_count": 44,
      "outputs": [
        {
          "output_type": "execute_result",
          "data": {
            "text/plain": [
              "'foobazrabblim'"
            ]
          },
          "metadata": {
            "tags": []
          },
          "execution_count": 44
        }
      ]
    },
    {
      "cell_type": "code",
      "metadata": {
        "id": "qXooYhBjbCut",
        "colab_type": "code",
        "colab": {
          "base_uri": "https://localhost:8080/",
          "height": 34
        },
        "outputId": "473991be-b6f7-4890-9ae7-3c279a1de1b5"
      },
      "source": [
        "def reverseInParentheses(s):\n",
        "    return eval('\"' + s.replace('(', '\"+(\"').replace(')', '\")[::-1]+\"') + '\"')\n",
        "reverseInParentheses(inputString)"
      ],
      "execution_count": 45,
      "outputs": [
        {
          "output_type": "execute_result",
          "data": {
            "text/plain": [
              "'foobazrabblim'"
            ]
          },
          "metadata": {
            "tags": []
          },
          "execution_count": 45
        }
      ]
    },
    {
      "cell_type": "code",
      "metadata": {
        "id": "IkUu2hgjbPLA",
        "colab_type": "code",
        "colab": {}
      },
      "source": [
        ""
      ],
      "execution_count": 0,
      "outputs": []
    }
  ]
}