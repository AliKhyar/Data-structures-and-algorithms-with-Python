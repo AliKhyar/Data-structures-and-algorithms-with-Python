{
  "nbformat": 4,
  "nbformat_minor": 0,
  "metadata": {
    "colab": {
      "name": "QueueImplementation.ipynb",
      "provenance": [],
      "authorship_tag": "ABX9TyPWLQORam+g5HZUxRveyKji",
      "include_colab_link": true
    },
    "kernelspec": {
      "name": "python3",
      "display_name": "Python 3"
    }
  },
  "cells": [
    {
      "cell_type": "markdown",
      "metadata": {
        "id": "view-in-github",
        "colab_type": "text"
      },
      "source": [
        "<a href=\"https://colab.research.google.com/github/AliKhyar/Data-structures-and-algorithms-with-Python/blob/master/QueueImplementation.ipynb\" target=\"_parent\"><img src=\"https://colab.research.google.com/assets/colab-badge.svg\" alt=\"Open In Colab\"/></a>"
      ]
    },
    {
      "cell_type": "code",
      "metadata": {
        "id": "mYXf6tqbVhpJ",
        "colab_type": "code",
        "colab": {}
      },
      "source": [
        "class Queue(object):\n",
        "  \n",
        "  def __init__(self):\n",
        "    self.queue = []\n",
        "  \n",
        "  def isEmpty(self):\n",
        "    return self.queue == []\n",
        "  \n",
        "  def enqueue(self, value):\n",
        "    self.queue.insert(0, value)\n",
        "  \n",
        "  def dequeue(self):\n",
        "    return self.queue.pop()\n",
        "  \n",
        "  def size(self):\n",
        "    return len(self.queue)"
      ],
      "execution_count": 0,
      "outputs": []
    },
    {
      "cell_type": "code",
      "metadata": {
        "id": "wmjK5dKlW0oG",
        "colab_type": "code",
        "colab": {
          "base_uri": "https://localhost:8080/",
          "height": 34
        },
        "outputId": "8992eda7-a3d3-4ecb-8c82-28589bdf75cf"
      },
      "source": [
        "q = Queue()\n",
        "q.isEmpty()"
      ],
      "execution_count": 6,
      "outputs": [
        {
          "output_type": "execute_result",
          "data": {
            "text/plain": [
              "True"
            ]
          },
          "metadata": {
            "tags": []
          },
          "execution_count": 6
        }
      ]
    },
    {
      "cell_type": "code",
      "metadata": {
        "id": "Hd2f-SvdW8B7",
        "colab_type": "code",
        "colab": {
          "base_uri": "https://localhost:8080/",
          "height": 34
        },
        "outputId": "97413a59-f25f-4100-a68c-910f1aa2fdca"
      },
      "source": [
        "q.enqueue(False)\n",
        "q.enqueue('World')\n",
        "q.enqueue('Hello')\n",
        "q.enqueue(12.)\n",
        "q.size()"
      ],
      "execution_count": 7,
      "outputs": [
        {
          "output_type": "execute_result",
          "data": {
            "text/plain": [
              "4"
            ]
          },
          "metadata": {
            "tags": []
          },
          "execution_count": 7
        }
      ]
    },
    {
      "cell_type": "code",
      "metadata": {
        "id": "83sDumPxXQYL",
        "colab_type": "code",
        "colab": {
          "base_uri": "https://localhost:8080/",
          "height": 51
        },
        "outputId": "f054aaa7-068d-40fa-b272-c99f092450d9"
      },
      "source": [
        "print(f'{q.dequeue()} {q.dequeue()}')\n",
        "q.size()\n"
      ],
      "execution_count": 9,
      "outputs": [
        {
          "output_type": "stream",
          "text": [
            "World Hello\n"
          ],
          "name": "stdout"
        },
        {
          "output_type": "execute_result",
          "data": {
            "text/plain": [
              "1"
            ]
          },
          "metadata": {
            "tags": []
          },
          "execution_count": 9
        }
      ]
    },
    {
      "cell_type": "code",
      "metadata": {
        "id": "DW1G7MWsXcpQ",
        "colab_type": "code",
        "colab": {}
      },
      "source": [
        ""
      ],
      "execution_count": 0,
      "outputs": []
    }
  ]
}