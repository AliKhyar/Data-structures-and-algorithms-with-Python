{
  "nbformat": 4,
  "nbformat_minor": 0,
  "metadata": {
    "colab": {
      "name": "BSTLevelOrderTraversal.ipynb",
      "provenance": [],
      "authorship_tag": "ABX9TyNy/cLiq2FV9lt0BE6wtUAn",
      "include_colab_link": true
    },
    "kernelspec": {
      "name": "python3",
      "display_name": "Python 3"
    }
  },
  "cells": [
    {
      "cell_type": "markdown",
      "metadata": {
        "id": "view-in-github",
        "colab_type": "text"
      },
      "source": [
        "<a href=\"https://colab.research.google.com/github/AliKhyar/Data-structures-and-algorithms-with-Python/blob/master/BSTLevelOrderTraversal.ipynb\" target=\"_parent\"><img src=\"https://colab.research.google.com/assets/colab-badge.svg\" alt=\"Open In Colab\"/></a>"
      ]
    },
    {
      "cell_type": "code",
      "metadata": {
        "id": "BsC72oX3PEHm",
        "colab_type": "code",
        "colab": {
          "base_uri": "https://localhost:8080/",
          "height": 156
        },
        "outputId": "4e2f220c-bc5f-459b-f5ea-b1b79caf77db"
      },
      "source": [
        "import sys\n",
        "\n",
        "class Node:\n",
        "    def __init__(self,data):\n",
        "        self.right=self.left=None\n",
        "        self.data = data\n",
        "class Solution:\n",
        "    def insert(self,root,data):\n",
        "        if root==None:\n",
        "            return Node(data)\n",
        "        else:\n",
        "            if data<=root.data:\n",
        "                cur=self.insert(root.left,data)\n",
        "                root.left=cur\n",
        "            else:\n",
        "                cur=self.insert(root.right,data)\n",
        "                root.right=cur\n",
        "        return root\n",
        "\n",
        "    def levelOrder(self,root):\n",
        "        #Write your code here\n",
        "        if root is None:\n",
        "            return\n",
        "        queue = Queue()\n",
        "        queue.enqueue(root)\n",
        "        to_be_returned = ''\n",
        "        while len(queue)>0:\n",
        "            to_be_returned += str(queue.peek()) + ' '\n",
        "            node = queue.dequeue()\n",
        "            if node.left:\n",
        "                queue.enqueue(node.left)\n",
        "            if node.right:\n",
        "                queue.enqueue(node.right)\n",
        "        \n",
        "        print(to_be_returned)\n",
        "\n",
        "import sys\n",
        "\n",
        "class Node:\n",
        "    def __init__(self,data):\n",
        "        self.right=self.left=None\n",
        "        self.data = data\n",
        "  \n",
        "\n",
        "class Queue(object):\n",
        "    def __init__(self):\n",
        "        self.items = []\n",
        "  \n",
        "    def isEmpty(self):\n",
        "        return self.items == []\n",
        "    \n",
        "    def enqueue(self, value):\n",
        "        self.items.insert(0, value)\n",
        "    \n",
        "    def dequeue(self):\n",
        "        return self.items.pop()\n",
        "\n",
        "    def peek(self):\n",
        "      if not self.isEmpty():\n",
        "        return self.items[-1].data\n",
        "                \n",
        "\n",
        "    def isEmpty(self):\n",
        "        return self.items == []\n",
        "    \n",
        "    def size(self):\n",
        "        return len(self.items)\n",
        "\n",
        "    def __len__(self):\n",
        "        return self.size()\n",
        "    \n",
        "\n",
        "\n",
        "\n",
        "T=int(input())\n",
        "myTree=Solution()\n",
        "root=None\n",
        "for i in range(T):\n",
        "    data=int(input())\n",
        "    root=myTree.insert(root,data)\n",
        "myTree.levelOrder(root)"
      ],
      "execution_count": 8,
      "outputs": [
        {
          "output_type": "stream",
          "text": [
            "6\n",
            "3\n",
            "5\n",
            "4\n",
            "7\n",
            "2\n",
            "1\n",
            "3 2 5 1 4 7 \n"
          ],
          "name": "stdout"
        }
      ]
    }
  ]
}