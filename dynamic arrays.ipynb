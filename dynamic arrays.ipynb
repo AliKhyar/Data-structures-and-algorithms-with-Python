{
 "cells": [
  {
   "cell_type": "code",
   "execution_count": 43,
   "metadata": {},
   "outputs": [],
   "source": [
    "import ctypes\n",
    "import sys\n",
    "import random"
   ]
  },
  {
   "cell_type": "code",
   "execution_count": 32,
   "metadata": {},
   "outputs": [],
   "source": [
    "class DynamicArrays(object):\n",
    "    \n",
    "    def __init__(self):\n",
    "        self.n = 0\n",
    "        self.capacity = 1\n",
    "        self.A = self.make_array(self.capacity)\n",
    "    \n",
    "    def __len__(self):\n",
    "        return self.n\n",
    "    \n",
    "    def __getitem__(self,index):\n",
    "        if not 0 <= index < self.n:\n",
    "            return IndexError('out of bound')\n",
    "        return A[index]\n",
    "    \n",
    "    def append(self,item):\n",
    "        if self.n == self.capacity:\n",
    "            self._resize(2*self.capacity)\n",
    "        self.A[self.n] = item\n",
    "        self.n += 1\n",
    "    \n",
    "    def _resize(self,new_cap):\n",
    "        B = self.make_array(new_cap)\n",
    "        for i in range(self.n):\n",
    "            B[i] = A[i]\n",
    "        self.A = B\n",
    "        self.capacity = new_cap\n",
    "        return B[i]\n",
    "    def make_array(self,new_cap):\n",
    "        \n",
    "        return (new_cap*ctypes.py_object)()    "
   ]
  },
  {
   "cell_type": "code",
   "execution_count": 56,
   "metadata": {},
   "outputs": [
    {
     "data": {
      "text/plain": [
       "56"
      ]
     },
     "execution_count": 56,
     "metadata": {},
     "output_type": "execute_result"
    }
   ],
   "source": [
    "arr = DynamicArrays()\n",
    "sys.getsizeof(arr)"
   ]
  },
  {
   "cell_type": "code",
   "execution_count": 57,
   "metadata": {},
   "outputs": [
    {
     "name": "stdout",
     "output_type": "stream",
     "text": [
      "added number is:  1\n",
      "length of array is:  1\n",
      "size of array is:  56\n",
      "\n",
      "###############\n",
      "\n",
      "added number is:  -8\n",
      "length of array is:  2\n",
      "size of array is:  56\n",
      "\n",
      "###############\n",
      "\n",
      "added number is:  7\n",
      "length of array is:  3\n",
      "size of array is:  56\n",
      "\n",
      "###############\n",
      "\n",
      "added number is:  5\n",
      "length of array is:  4\n",
      "size of array is:  56\n",
      "\n",
      "###############\n",
      "\n",
      "added number is:  -4\n",
      "length of array is:  5\n",
      "size of array is:  56\n",
      "\n",
      "###############\n",
      "\n",
      "added number is:  -7\n",
      "length of array is:  6\n",
      "size of array is:  56\n",
      "\n",
      "###############\n",
      "\n",
      "added number is:  -9\n",
      "length of array is:  7\n",
      "size of array is:  56\n",
      "\n",
      "###############\n",
      "\n",
      "added number is:  0\n",
      "length of array is:  8\n",
      "size of array is:  56\n",
      "\n",
      "###############\n",
      "\n",
      "added number is:  -2\n",
      "length of array is:  9\n",
      "size of array is:  56\n",
      "\n",
      "###############\n",
      "\n",
      "added number is:  -3\n",
      "length of array is:  10\n",
      "size of array is:  56\n",
      "\n",
      "###############\n",
      "\n"
     ]
    }
   ],
   "source": [
    "for i in range(10):\n",
    "    a = random.randint(-10,10)\n",
    "    arr.append(a)\n",
    "    print(\"added number is: \",a)\n",
    "    print(\"length of array is: \", len(arr))\n",
    "    print(\"size of array is: \",sys.getsizeof(arr))\n",
    "    print(\"\\n###############\\n\")"
   ]
  },
  {
   "cell_type": "code",
   "execution_count": null,
   "metadata": {},
   "outputs": [],
   "source": []
  }
 ],
 "metadata": {
  "kernelspec": {
   "display_name": "Python 3",
   "language": "python",
   "name": "python3"
  },
  "language_info": {
   "codemirror_mode": {
    "name": "ipython",
    "version": 3
   },
   "file_extension": ".py",
   "mimetype": "text/x-python",
   "name": "python",
   "nbconvert_exporter": "python",
   "pygments_lexer": "ipython3",
   "version": "3.7.3"
  }
 },
 "nbformat": 4,
 "nbformat_minor": 2
}
