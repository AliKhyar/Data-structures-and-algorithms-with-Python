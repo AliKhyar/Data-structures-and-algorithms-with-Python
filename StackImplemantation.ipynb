{
  "nbformat": 4,
  "nbformat_minor": 0,
  "metadata": {
    "colab": {
      "name": "StackImplemantation.ipynb",
      "provenance": [],
      "authorship_tag": "ABX9TyONzzrGT0KlBa3TacIk2TsJ",
      "include_colab_link": true
    },
    "kernelspec": {
      "name": "python3",
      "display_name": "Python 3"
    }
  },
  "cells": [
    {
      "cell_type": "markdown",
      "metadata": {
        "id": "view-in-github",
        "colab_type": "text"
      },
      "source": [
        "<a href=\"https://colab.research.google.com/github/AliKhyar/Data-structures-and-algorithms-with-Python/blob/master/StackImplemantation.ipynb\" target=\"_parent\"><img src=\"https://colab.research.google.com/assets/colab-badge.svg\" alt=\"Open In Colab\"/></a>"
      ]
    },
    {
      "cell_type": "code",
      "metadata": {
        "id": "Y306Nn-eLdZV",
        "colab_type": "code",
        "colab": {}
      },
      "source": [
        "class Stack(object):\n",
        "  def __init__(self):\n",
        "\n",
        "    self.stack = []\n",
        "\n",
        "  def isEmpty(self):\n",
        "    return self.stack == []\n",
        "\n",
        "  def push(self, value):\n",
        "    self.stack.append(value)\n",
        "\n",
        "  def pop(self):\n",
        "    if self.isEmpty():\n",
        "      return 'Stack is empty'\n",
        "    else:\n",
        "      return self.stack.pop()\n",
        "\n",
        "\n",
        "  def peek(self):\n",
        "    if self.isEmpty():\n",
        "      return 'Stack is empty'\n",
        "    else:\n",
        "      return self.stack[-1]\n",
        "\n",
        "  def size(self):\n",
        "    return len(self.stack)"
      ],
      "execution_count": 0,
      "outputs": []
    },
    {
      "cell_type": "code",
      "metadata": {
        "id": "g05spT1bSove",
        "colab_type": "code",
        "colab": {
          "base_uri": "https://localhost:8080/",
          "height": 34
        },
        "outputId": "0d5c4749-6c49-4ee8-e37d-d4d20b367003"
      },
      "source": [
        "s = Stack()\n",
        "s.peek()"
      ],
      "execution_count": 40,
      "outputs": [
        {
          "output_type": "execute_result",
          "data": {
            "text/plain": [
              "'Stack is empty'"
            ]
          },
          "metadata": {
            "tags": []
          },
          "execution_count": 40
        }
      ]
    },
    {
      "cell_type": "code",
      "metadata": {
        "id": "EFpUWQVcStkr",
        "colab_type": "code",
        "colab": {}
      },
      "source": [
        "s.push(11)\n",
        "s.push('world')\n",
        "s.push('hello')\n",
        "s.push(True)"
      ],
      "execution_count": 0,
      "outputs": []
    },
    {
      "cell_type": "code",
      "metadata": {
        "id": "KIZ3CSk0TO4a",
        "colab_type": "code",
        "colab": {
          "base_uri": "https://localhost:8080/",
          "height": 34
        },
        "outputId": "601db387-655d-40b4-8553-2f782383b9f9"
      },
      "source": [
        "s.peek()"
      ],
      "execution_count": 42,
      "outputs": [
        {
          "output_type": "execute_result",
          "data": {
            "text/plain": [
              "True"
            ]
          },
          "metadata": {
            "tags": []
          },
          "execution_count": 42
        }
      ]
    },
    {
      "cell_type": "code",
      "metadata": {
        "id": "lo2ijZwUTiFV",
        "colab_type": "code",
        "colab": {
          "base_uri": "https://localhost:8080/",
          "height": 34
        },
        "outputId": "fd5416a0-a023-46d9-e24a-5c039eeaa57d"
      },
      "source": [
        "s.pop()"
      ],
      "execution_count": 43,
      "outputs": [
        {
          "output_type": "execute_result",
          "data": {
            "text/plain": [
              "True"
            ]
          },
          "metadata": {
            "tags": []
          },
          "execution_count": 43
        }
      ]
    },
    {
      "cell_type": "code",
      "metadata": {
        "id": "aSMrzhtPT-KE",
        "colab_type": "code",
        "colab": {
          "base_uri": "https://localhost:8080/",
          "height": 34
        },
        "outputId": "d59cfa2e-f8a3-4b01-93c7-94f414b974a1"
      },
      "source": [
        "s.peek()"
      ],
      "execution_count": 44,
      "outputs": [
        {
          "output_type": "execute_result",
          "data": {
            "text/plain": [
              "'hello'"
            ]
          },
          "metadata": {
            "tags": []
          },
          "execution_count": 44
        }
      ]
    },
    {
      "cell_type": "code",
      "metadata": {
        "id": "oO0RJKiwUEYU",
        "colab_type": "code",
        "colab": {
          "base_uri": "https://localhost:8080/",
          "height": 34
        },
        "outputId": "04b30562-5565-4e2e-ece2-c992eb294c5d"
      },
      "source": [
        "print(s.pop() +' '+ s.pop())"
      ],
      "execution_count": 45,
      "outputs": [
        {
          "output_type": "stream",
          "text": [
            "hello world\n"
          ],
          "name": "stdout"
        }
      ]
    },
    {
      "cell_type": "code",
      "metadata": {
        "id": "ViJ4aGemUGYd",
        "colab_type": "code",
        "colab": {
          "base_uri": "https://localhost:8080/",
          "height": 34
        },
        "outputId": "8de4ef8b-2cf9-47ec-a41c-fd5352ecea80"
      },
      "source": [
        "s.size()"
      ],
      "execution_count": 46,
      "outputs": [
        {
          "output_type": "execute_result",
          "data": {
            "text/plain": [
              "1"
            ]
          },
          "metadata": {
            "tags": []
          },
          "execution_count": 46
        }
      ]
    },
    {
      "cell_type": "code",
      "metadata": {
        "id": "S2NMrbE2USuT",
        "colab_type": "code",
        "colab": {}
      },
      "source": [
        ""
      ],
      "execution_count": 0,
      "outputs": []
    }
  ]
}