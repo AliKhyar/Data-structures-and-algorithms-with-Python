{
  "nbformat": 4,
  "nbformat_minor": 0,
  "metadata": {
    "colab": {
      "name": "Interfaces.ipynb",
      "provenance": [],
      "authorship_tag": "ABX9TyPUFPhhgem6ZAZWbkV7sWY7",
      "include_colab_link": true
    },
    "kernelspec": {
      "name": "python3",
      "display_name": "Python 3"
    }
  },
  "cells": [
    {
      "cell_type": "markdown",
      "metadata": {
        "id": "view-in-github",
        "colab_type": "text"
      },
      "source": [
        "<a href=\"https://colab.research.google.com/github/AliKhyar/Data-structures-and-algorithms-with-Python/blob/master/Interfaces.ipynb\" target=\"_parent\"><img src=\"https://colab.research.google.com/assets/colab-badge.svg\" alt=\"Open In Colab\"/></a>"
      ]
    },
    {
      "cell_type": "code",
      "metadata": {
        "id": "ImeVg-nYEEfW",
        "colab_type": "code",
        "colab": {
          "base_uri": "https://localhost:8080/",
          "height": 68
        },
        "outputId": "91247bc3-aabf-46f8-80ba-b04cbc84736b"
      },
      "source": [
        "class AdvancedArithmetic(object):\n",
        "    def divisorSum(n):\n",
        "        raise NotImplementedError\n",
        "\n",
        "class Calculator(AdvancedArithmetic):\n",
        "    def divisorSum(self, n):\n",
        "        if n == 1:\n",
        "            return n\n",
        "        to_be_returned = 1 + n\n",
        "        for nb in range(2,n//2 + 1) :\n",
        "            if n%nb == 0:\n",
        "                to_be_returned += nb\n",
        "        return to_be_returned\n",
        "        \n",
        "\n",
        "\n",
        "n = int(input())\n",
        "my_calculator = Calculator()\n",
        "s = my_calculator.divisorSum(n)\n",
        "print(\"I implemented: \" + type(my_calculator).__bases__[0].__name__)\n",
        "print(s)"
      ],
      "execution_count": 3,
      "outputs": [
        {
          "output_type": "stream",
          "text": [
            "6\n",
            "I implemented: AdvancedArithmetic\n",
            "12\n"
          ],
          "name": "stdout"
        }
      ]
    },
    {
      "cell_type": "code",
      "metadata": {
        "id": "2W3ZUfIAFoYS",
        "colab_type": "code",
        "colab": {}
      },
      "source": [
        ""
      ],
      "execution_count": 0,
      "outputs": []
    }
  ]
}