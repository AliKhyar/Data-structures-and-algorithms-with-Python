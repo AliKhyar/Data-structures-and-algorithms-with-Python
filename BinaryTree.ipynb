{
  "nbformat": 4,
  "nbformat_minor": 0,
  "metadata": {
    "kernelspec": {
      "display_name": "Python 3",
      "language": "python",
      "name": "python3"
    },
    "language_info": {
      "codemirror_mode": {
        "name": "ipython",
        "version": 3
      },
      "file_extension": ".py",
      "mimetype": "text/x-python",
      "name": "python",
      "nbconvert_exporter": "python",
      "pygments_lexer": "ipython3",
      "version": "3.7.3"
    },
    "colab": {
      "name": "BinaryTree.ipynb",
      "provenance": []
    }
  },
  "cells": [
    {
      "cell_type": "code",
      "metadata": {
        "id": "Mg0k9aatIeW2",
        "colab_type": "code",
        "colab": {}
      },
      "source": [
        "class BinaryTree(object):\n",
        "    \n",
        "    def __init__(self, root):\n",
        "        self.root = root\n",
        "        self.leftChild = None\n",
        "        self.rightChild = None\n",
        "    \n",
        "    # getters\n",
        "    def getRoot(self):\n",
        "        return self.root\n",
        "    \n",
        "    def getLeftChild(self):\n",
        "        return self.leftChild\n",
        "    \n",
        "    def getRightChild(self):\n",
        "        return self.rightChild\n",
        "    \n",
        "    # setters\n",
        "    def setRoot(self, newRoot):\n",
        "        self.root = newRoot\n",
        "    \n",
        "    def setRightChild(self, newRightChild):\n",
        "        self.rightChild = BinaryTree(newRightChild)\n",
        "    \n",
        "    def setLeftChild(self, newLeftChild):\n",
        "        self.leftChild = BinaryTree(newLeftChild)\n",
        "    \n",
        "    #insertions\n",
        "        \n",
        "    def insertLeft(self, newNode):\n",
        "        if self.leftChild == None:\n",
        "            self.leftChild = BinaryTree(newNode)\n",
        "        else:\n",
        "            t = BinaryTree(newNode)\n",
        "            t.leftChild = self.leftChild\n",
        "            self.leftChild = t\n",
        "    \n",
        "    def insertRight(self, newNode):\n",
        "        if self.rightChild == None:\n",
        "            self.rightChild = BinaryTree(newNode)   \n",
        "        else:\n",
        "            t = BinaryTree(newNode)\n",
        "            t.rightChild = self.rightChild\n",
        "            self.rightChild = t  \n",
        "    \n",
        "    def preorder(self):\n",
        "        print(self.getRoot())\n",
        "        if self.leftChild:\n",
        "            self.leftChild.preorder()\n",
        "        if self.rightChild:\n",
        "            self.rightChild.preorder()\n",
        "            \n",
        "    def postorder(self):\n",
        "        if self.leftChild:\n",
        "            self.leftChild.postorder()\n",
        "        if self.rightChild:\n",
        "            self.rightChild.postorder()\n",
        "        print(self.root)\n",
        "        \n",
        "    def inorder(self):\n",
        "        if self.leftChild:\n",
        "            self.leftChild.inorder()\n",
        "        print(self.getRoot())    \n",
        "        if self.rightChild:\n",
        "            self.rightChild.inorder()"
      ],
      "execution_count": 0,
      "outputs": []
    },
    {
      "cell_type": "markdown",
      "metadata": {
        "id": "uOSrEh1Rgtcb",
        "colab_type": "text"
      },
      "source": [
        "## let's build the tree in the left\n",
        "\n",
        "![alt text](https://slideplayer.com/slide/14441346/90/images/70/Lists+as+Trees+%5B+a+b+c+d+e+f+%5D+a+e+b+d+f+c+b+e+d+c+f+a.jpg)"
      ]
    },
    {
      "cell_type": "code",
      "metadata": {
        "id": "3WY88FQ7IeXD",
        "colab_type": "code",
        "colab": {}
      },
      "source": [
        "r = BinaryTree('d')"
      ],
      "execution_count": 0,
      "outputs": []
    },
    {
      "cell_type": "code",
      "metadata": {
        "id": "qBzuaY6TIeXM",
        "colab_type": "code",
        "colab": {}
      },
      "source": [
        "r.insertLeft('b')\n",
        "r.leftChild.setLeftChild('a')\n",
        "r.leftChild.setRightChild('c')\n",
        "\n",
        "r.insertRight('e')\n",
        "r.rightChild.setRightChild('f')"
      ],
      "execution_count": 0,
      "outputs": []
    },
    {
      "cell_type": "code",
      "metadata": {
        "id": "l3--62UFIeXV",
        "colab_type": "code",
        "colab": {
          "base_uri": "https://localhost:8080/",
          "height": 34
        },
        "outputId": "5fed5afd-34f9-4900-8064-0b86cd78e51e"
      },
      "source": [
        "r.rightChild.getRoot()"
      ],
      "execution_count": 13,
      "outputs": [
        {
          "output_type": "execute_result",
          "data": {
            "text/plain": [
              "'e'"
            ]
          },
          "metadata": {
            "tags": []
          },
          "execution_count": 13
        }
      ]
    },
    {
      "cell_type": "code",
      "metadata": {
        "id": "Xe4Oz7HgIeYm",
        "colab_type": "code",
        "colab": {
          "base_uri": "https://localhost:8080/",
          "height": 119
        },
        "outputId": "841d9b4b-e0c7-43f9-b335-1e037e4f57fd"
      },
      "source": [
        "r.preorder()"
      ],
      "execution_count": 14,
      "outputs": [
        {
          "output_type": "stream",
          "text": [
            "d\n",
            "b\n",
            "a\n",
            "c\n",
            "e\n",
            "f\n"
          ],
          "name": "stdout"
        }
      ]
    },
    {
      "cell_type": "code",
      "metadata": {
        "id": "9Gq1khm2IeYu",
        "colab_type": "code",
        "colab": {
          "base_uri": "https://localhost:8080/",
          "height": 119
        },
        "outputId": "796f40e3-9a43-401c-f8d3-6ef3f42228bd"
      },
      "source": [
        "r.postorder()"
      ],
      "execution_count": 15,
      "outputs": [
        {
          "output_type": "stream",
          "text": [
            "a\n",
            "c\n",
            "b\n",
            "f\n",
            "e\n",
            "d\n"
          ],
          "name": "stdout"
        }
      ]
    },
    {
      "cell_type": "code",
      "metadata": {
        "id": "h6nvTkEpIeY3",
        "colab_type": "code",
        "colab": {
          "base_uri": "https://localhost:8080/",
          "height": 119
        },
        "outputId": "74ce13f2-7deb-4e79-f902-4f1186e18ce9"
      },
      "source": [
        "r.inorder()"
      ],
      "execution_count": 16,
      "outputs": [
        {
          "output_type": "stream",
          "text": [
            "a\n",
            "b\n",
            "c\n",
            "d\n",
            "e\n",
            "f\n"
          ],
          "name": "stdout"
        }
      ]
    },
    {
      "cell_type": "code",
      "metadata": {
        "id": "kK2iUkamIeZB",
        "colab_type": "code",
        "colab": {}
      },
      "source": [
        ""
      ],
      "execution_count": 0,
      "outputs": []
    }
  ]
}