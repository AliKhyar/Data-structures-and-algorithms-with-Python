{
 "cells": [
  {
   "cell_type": "code",
   "execution_count": 149,
   "metadata": {},
   "outputs": [],
   "source": [
    "class BinaryTree(object):\n",
    "    \n",
    "    def __init__(self, root):\n",
    "        self.root = root\n",
    "        self.leftChild = None\n",
    "        self.rightChild = None\n",
    "    \n",
    "    # getters\n",
    "    def getRoot(self):\n",
    "        return self.root\n",
    "    \n",
    "    def getLeftChild(self):\n",
    "        return self.leftChild\n",
    "    \n",
    "    def getRightChild(self):\n",
    "        return self.rightChild\n",
    "    \n",
    "    # setters\n",
    "    def setRoot(self, newRoot):\n",
    "        self.root = newRoot\n",
    "    \n",
    "    def setRightChild(self, newRightChild):\n",
    "        self.rightChild = newRightChild\n",
    "    \n",
    "    def setLeftChild(self, newLeftChild):\n",
    "        self.leftChild = newLeftChild\n",
    "    \n",
    "    #insertions\n",
    "        \n",
    "    def insertLeft(self, newNode):\n",
    "        if self.leftChild == None:\n",
    "            self.leftChild = BinaryTree(newNode)\n",
    "        else:\n",
    "            t = BinaryTree(newNode)\n",
    "            t.leftChild = self.leftChild\n",
    "            self.leftChild = t\n",
    "    \n",
    "    def insertRight(self, newNode):\n",
    "        if self.rightChild == None:\n",
    "            self.rightChild = BinaryTree(newNode)   \n",
    "        else:\n",
    "            t = BinaryTree(newNode)\n",
    "            t.rightChild = self.rightChild\n",
    "            self.rightChild = t  \n",
    "    \n",
    "    def preorder(self):\n",
    "        print(self.getRoot())\n",
    "        if self.leftChild:\n",
    "            self.leftChild.preorder()\n",
    "        if self.rightChild:\n",
    "            self.rightChild.preorder()\n",
    "            \n",
    "    def postorder(self):\n",
    "        if self.leftChild:\n",
    "            self.leftChild.postorder()\n",
    "        if self.rightChild:\n",
    "            self.rightChild.postorder()\n",
    "        print(self.root)\n",
    "        \n",
    "    def inorder(self):\n",
    "        if self.leftChild:\n",
    "            self.leftChild.inorder()\n",
    "        print(self.getRoot())    \n",
    "        if self.rightChild:\n",
    "            self.rightChild.inorder()"
   ]
  },
  {
   "cell_type": "code",
   "execution_count": 150,
   "metadata": {},
   "outputs": [],
   "source": [
    "r = BinaryTree('a')"
   ]
  },
  {
   "cell_type": "code",
   "execution_count": 151,
   "metadata": {},
   "outputs": [],
   "source": [
    "r.insertRight('e')\n",
    "r.insertLeft('e')"
   ]
  },
  {
   "cell_type": "code",
   "execution_count": 152,
   "metadata": {},
   "outputs": [
    {
     "data": {
      "text/plain": [
       "'e'"
      ]
     },
     "execution_count": 152,
     "metadata": {},
     "output_type": "execute_result"
    }
   ],
   "source": [
    "r.rightChild.getRoot()"
   ]
  },
  {
   "cell_type": "code",
   "execution_count": 153,
   "metadata": {},
   "outputs": [],
   "source": [
    "r.leftChild.setLeftChild('b')\n",
    "r.leftChild.setLeftChild('c')\n",
    "r.leftChild.setRightChild('d')"
   ]
  },
  {
   "cell_type": "code",
   "execution_count": 154,
   "metadata": {},
   "outputs": [],
   "source": [
    "r.rightChild.setRightChild('f')"
   ]
  },
  {
   "cell_type": "code",
   "execution_count": 155,
   "metadata": {},
   "outputs": [
    {
     "data": {
      "text/plain": [
       "'c'"
      ]
     },
     "execution_count": 155,
     "metadata": {},
     "output_type": "execute_result"
    }
   ],
   "source": [
    "r.leftChild.getLeftChild()"
   ]
  },
  {
   "cell_type": "code",
   "execution_count": 156,
   "metadata": {},
   "outputs": [
    {
     "data": {
      "text/plain": [
       "'d'"
      ]
     },
     "execution_count": 156,
     "metadata": {},
     "output_type": "execute_result"
    }
   ],
   "source": [
    "r.leftChild.getRightChild()"
   ]
  },
  {
   "cell_type": "code",
   "execution_count": 157,
   "metadata": {},
   "outputs": [
    {
     "data": {
      "text/plain": [
       "'f'"
      ]
     },
     "execution_count": 157,
     "metadata": {},
     "output_type": "execute_result"
    }
   ],
   "source": [
    "r.rightChild.getRightChild()"
   ]
  },
  {
   "cell_type": "code",
   "execution_count": 158,
   "metadata": {},
   "outputs": [],
   "source": [
    "r = BinaryTree('a')"
   ]
  },
  {
   "cell_type": "code",
   "execution_count": 159,
   "metadata": {},
   "outputs": [],
   "source": [
    "r.insertLeft('c')\n",
    "r.insertLeft('b')\n",
    "r.leftChild.insertRight('d')\n",
    "r.insertRight('f')\n",
    "r.insertRight('e')"
   ]
  },
  {
   "cell_type": "code",
   "execution_count": 160,
   "metadata": {},
   "outputs": [
    {
     "data": {
      "text/plain": [
       "'f'"
      ]
     },
     "execution_count": 160,
     "metadata": {},
     "output_type": "execute_result"
    }
   ],
   "source": [
    "r.rightChild.rightChild.getRoot()"
   ]
  },
  {
   "cell_type": "code",
   "execution_count": 161,
   "metadata": {},
   "outputs": [
    {
     "name": "stdout",
     "output_type": "stream",
     "text": [
      "a\n",
      "b\n",
      "c\n",
      "d\n",
      "e\n",
      "f\n"
     ]
    }
   ],
   "source": [
    "r.preorder()"
   ]
  },
  {
   "cell_type": "code",
   "execution_count": 162,
   "metadata": {},
   "outputs": [
    {
     "name": "stdout",
     "output_type": "stream",
     "text": [
      "c\n",
      "d\n",
      "b\n",
      "f\n",
      "e\n",
      "a\n"
     ]
    }
   ],
   "source": [
    "r.postorder()"
   ]
  },
  {
   "cell_type": "code",
   "execution_count": 163,
   "metadata": {},
   "outputs": [
    {
     "name": "stdout",
     "output_type": "stream",
     "text": [
      "c\n",
      "b\n",
      "d\n",
      "a\n",
      "e\n",
      "f\n"
     ]
    }
   ],
   "source": [
    "r.inorder()"
   ]
  },
  {
   "cell_type": "code",
   "execution_count": null,
   "metadata": {},
   "outputs": [],
   "source": []
  }
 ],
 "metadata": {
  "kernelspec": {
   "display_name": "Python 3",
   "language": "python",
   "name": "python3"
  },
  "language_info": {
   "codemirror_mode": {
    "name": "ipython",
    "version": 3
   },
   "file_extension": ".py",
   "mimetype": "text/x-python",
   "name": "python",
   "nbconvert_exporter": "python",
   "pygments_lexer": "ipython3",
   "version": "3.7.3"
  }
 },
 "nbformat": 4,
 "nbformat_minor": 2
}
