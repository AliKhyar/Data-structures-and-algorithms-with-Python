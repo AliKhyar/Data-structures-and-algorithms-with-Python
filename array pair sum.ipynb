{
 "cells": [
  {
   "cell_type": "code",
   "execution_count": 10,
   "metadata": {},
   "outputs": [],
   "source": [
    "def pair_sum(arr, target):\n",
    "    \n",
    "    if len(arr) < 2:\n",
    "        return \"Array is too small\"\n",
    "    \n",
    "    seen = set()\n",
    "    pairs = set()\n",
    "    \n",
    "    for item in arr:\n",
    "        if (target-item) not in seen:\n",
    "            seen.add(item)\n",
    "        else:\n",
    "            pairs.add((min(target-item, item), max(target-item, item)))\n",
    "    \n",
    "    return pairs\n",
    "    "
   ]
  },
  {
   "cell_type": "code",
   "execution_count": 11,
   "metadata": {},
   "outputs": [
    {
     "data": {
      "text/plain": [
       "{(1, 14), (6, 9), (7, 8)}"
      ]
     },
     "execution_count": 11,
     "metadata": {},
     "output_type": "execute_result"
    }
   ],
   "source": [
    "pair_sum([4,6,8,9,1,3,5,14,7],15)"
   ]
  },
  {
   "cell_type": "code",
   "execution_count": null,
   "metadata": {},
   "outputs": [],
   "source": [
    "\n"
   ]
  }
 ],
 "metadata": {
  "kernelspec": {
   "display_name": "Python 3",
   "language": "python",
   "name": "python3"
  },
  "language_info": {
   "codemirror_mode": {
    "name": "ipython",
    "version": 3
   },
   "file_extension": ".py",
   "mimetype": "text/x-python",
   "name": "python",
   "nbconvert_exporter": "python",
   "pygments_lexer": "ipython3",
   "version": "3.7.3"
  }
 },
 "nbformat": 4,
 "nbformat_minor": 2
}
