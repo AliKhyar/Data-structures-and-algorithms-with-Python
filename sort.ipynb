{
  "nbformat": 4,
  "nbformat_minor": 0,
  "metadata": {
    "colab": {
      "name": "sort.ipynb",
      "provenance": [],
      "authorship_tag": "ABX9TyOsWuEzpEHRZbFwk27j4sZO",
      "include_colab_link": true
    },
    "kernelspec": {
      "name": "python3",
      "display_name": "Python 3"
    }
  },
  "cells": [
    {
      "cell_type": "markdown",
      "metadata": {
        "id": "view-in-github",
        "colab_type": "text"
      },
      "source": [
        "<a href=\"https://colab.research.google.com/github/AliKhyar/Data-structures-and-algorithms-with-Python/blob/master/sort.ipynb\" target=\"_parent\"><img src=\"https://colab.research.google.com/assets/colab-badge.svg\" alt=\"Open In Colab\"/></a>"
      ]
    },
    {
      "cell_type": "code",
      "metadata": {
        "id": "73j27w5mj4g6",
        "colab_type": "code",
        "colab": {}
      },
      "source": [
        "def bubbleSort(arr):\n",
        "  for i in range(len(arr)):\n",
        "    if i == 3: print(arr)\n",
        "    for j in range(1,len(arr)-i):\n",
        "      # print(arr)\n",
        "      if arr[j-1] > arr[j]:\n",
        "        arr[j], arr[j-1] = arr[j-1], arr[j]"
      ],
      "execution_count": 0,
      "outputs": []
    },
    {
      "cell_type": "code",
      "metadata": {
        "id": "JOSrDs-amuUe",
        "colab_type": "code",
        "outputId": "0e2d5c26-a11f-4bcf-8d06-0632c61cbc37",
        "colab": {
          "base_uri": "https://localhost:8080/",
          "height": 34
        }
      },
      "source": [
        "arr = [21,4,1,3,9,20,25,6,15,14]\n",
        "bubbleSort(arr)"
      ],
      "execution_count": 4,
      "outputs": [
        {
          "output_type": "stream",
          "text": [
            "[1, 3, 4, 9, 6, 15, 14, 20, 21, 25]\n"
          ],
          "name": "stdout"
        }
      ]
    },
    {
      "cell_type": "code",
      "metadata": {
        "id": "DCbTBYpWpe-I",
        "colab_type": "code",
        "colab": {}
      },
      "source": [
        "# Python program for implementation of MergeSort \n",
        "def mergeSort(arr): \n",
        "\tif len(arr) >1: \n",
        "\t\tmid = len(arr)//2 #Finding the mid of the array \n",
        "\t\tL = arr[:mid] # Dividing the array elements \n",
        "\t\tR = arr[mid:] # into 2 halves \n",
        "\t\tmergeSort(L) # Sorting the first half \n",
        "\t\tmergeSort(R) # Sorting the second half \n",
        "\n",
        "\t\ti = j = k = 0\n",
        "\t\t\n",
        "\t\t# Copy data to temp arrays L[] and R[] \n",
        "\t\twhile i < len(L) and j < len(R):  # len l w len r ghatkon flwel 1 wla 3\n",
        "       \n",
        "\t\t\tif L[i] < R[j]: \n",
        "\t\t\t\tarr[k] = L[i] \n",
        "\t\t\t\ti+=1\n",
        "\t\t\telse: \n",
        "\t\t\t\tarr[k] = R[j] \n",
        "\t\t\t\tj+=1\n",
        "\t\t\tk+=1\n",
        "\t\t\n",
        "\t\t# Checking if any element was left \n",
        "\t\twhile i < len(L): \n",
        "\t\t\tarr[k] = L[i] \n",
        "\t\t\ti+=1\n",
        "\t\t\tk+=1\n",
        "\t\t\n",
        "\t\twhile j < len(R): \n",
        "\t\t\tarr[k] = R[j] \n",
        "\t\t\tj+=1\n",
        "\t\t\tk+=1\n",
        "\n",
        "# Code to print the list \n",
        "def printList(arr): \n",
        "\tfor i in range(len(arr)):\t\t \n",
        "\t\tprint(arr[i],end=\" \") \n",
        "\tprint() \n",
        "\n",
        "# driver code to test the above code \n",
        "if __name__ == '__main__': \n",
        "\tarr = [12, 11, 13, 5, 6, 7] \n",
        "\tprint (\"Given array is\", end=\"\\n\") \n",
        "\tprintList(arr) \n",
        "\tmergeSort(arr) \n",
        "\tprint(\"Sorted array is: \", end=\"\\n\") \n",
        "\tprintList(arr) \n",
        "\n"
      ],
      "execution_count": 0,
      "outputs": []
    },
    {
      "cell_type": "code",
      "metadata": {
        "id": "5yZEXnNmquM6",
        "colab_type": "code",
        "colab": {}
      },
      "source": [
        "# def merge(left,right):\n",
        "#   result = []\n",
        "#   i = j = 0\n",
        "#   while i<len(left) and j<len(right):\n",
        "#     if left[i] <= right[j]:\n",
        "#       result.append(left[i])\n",
        "#       i += 1\n",
        "#     else:\n",
        "#       result.append(right[j])\n",
        "#       j += 1\n",
        "#   result += left[i:]\n",
        "#   result += right[j:]\n",
        "\n",
        "# def mergeSort(arr):\n",
        "#   if len(arr)<=1:\n",
        "#     return arr\n",
        "#   mid = len(arr)//2\n",
        "#   left = mergeSort(arr[:mid])\n",
        "#   right = mergeSort(arr[mid:])\n",
        "#   return merge(left,right)\n",
        "\n",
        "# # Code to print the list \n",
        "# def printList(arr): \n",
        "# \tfor i in range(len(arr)):\t\t \n",
        "# \t\tprint(arr[i],end=\" \") \n",
        "# \tprint() \n",
        "\n",
        "# # driver code to test the above code \n",
        "# if __name__ == '__main__': \n",
        "# \tarr = [12, 11, 13, 5, 6, 7] \n",
        "# \tprint (\"Given array is\", end=\"\\n\") \n",
        "# \tprintList(arr) \n",
        "# \tmergeSort(arr) \n",
        "# \tprint(\"Sorted array is: \", end=\"\\n\") \n",
        "# \tprintList(arr) \n",
        "\n"
      ],
      "execution_count": 0,
      "outputs": []
    },
    {
      "cell_type": "code",
      "metadata": {
        "id": "DZoYdr48w-vz",
        "colab_type": "code",
        "colab": {}
      },
      "source": [
        ""
      ],
      "execution_count": 0,
      "outputs": []
    }
  ]
}