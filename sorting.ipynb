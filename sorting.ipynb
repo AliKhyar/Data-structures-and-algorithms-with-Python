{
  "nbformat": 4,
  "nbformat_minor": 0,
  "metadata": {
    "colab": {
      "name": "sorting.ipynb",
      "provenance": [],
      "authorship_tag": "ABX9TyMNKCO14n4oNmHdaXT/Yq6O"
    },
    "kernelspec": {
      "name": "python3",
      "display_name": "Python 3"
    }
  },
  "cells": [
    {
      "cell_type": "code",
      "metadata": {
        "id": "w2QUpKUubj7v",
        "colab_type": "code",
        "colab": {}
      },
      "source": [
        "def insertion(l):\n",
        "  for i in range(l):\n",
        "    for j in range(i-1, -1, -1):\n",
        "      if l[j]>l[j+1]:\n",
        "        l[j], l[j+1] = l[j+1], l[j]\n",
        "      else:\n",
        "        break"
      ],
      "execution_count": 50,
      "outputs": []
    },
    {
      "cell_type": "code",
      "metadata": {
        "id": "NNDDIS9GdJCI",
        "colab_type": "code",
        "colab": {
          "base_uri": "https://localhost:8080/",
          "height": 34
        },
        "outputId": "a6e083be-4fee-4080-9871-a22510bda055"
      },
      "source": [
        "A = [2,0,1,-4]\n",
        "insertion(A)\n",
        "A"
      ],
      "execution_count": 51,
      "outputs": [
        {
          "output_type": "execute_result",
          "data": {
            "text/plain": [
              "[-4, 0, 1, 2]"
            ]
          },
          "metadata": {
            "tags": []
          },
          "execution_count": 51
        }
      ]
    },
    {
      "cell_type": "code",
      "metadata": {
        "id": "C5Add67wdcZc",
        "colab_type": "code",
        "colab": {}
      },
      "source": [
        "def selection(l):\n",
        "  for i in range(len(l)-1):\n",
        "    minIndex = i\n",
        "    for j in range(i+1, len(l)):\n",
        "      if l[j]<l[minIndex]:\n",
        "        minIndex = j\n",
        "    l[minIndex], l[i] = l[i], l[minIndex]"
      ],
      "execution_count": 54,
      "outputs": []
    },
    {
      "cell_type": "code",
      "metadata": {
        "id": "uzV8Z-ASkzoo",
        "colab_type": "code",
        "colab": {
          "base_uri": "https://localhost:8080/",
          "height": 34
        },
        "outputId": "7a149467-4182-4713-8b60-f00d1a09d9c6"
      },
      "source": [
        "A = [2,0,1,-4]\n",
        "selection(A)\n",
        "A"
      ],
      "execution_count": 55,
      "outputs": [
        {
          "output_type": "execute_result",
          "data": {
            "text/plain": [
              "[-4, 0, 1, 2]"
            ]
          },
          "metadata": {
            "tags": []
          },
          "execution_count": 55
        }
      ]
    },
    {
      "cell_type": "code",
      "metadata": {
        "id": "V_wa1oVyyzHx",
        "colab_type": "code",
        "colab": {
          "base_uri": "https://localhost:8080/",
          "height": 51
        },
        "outputId": "28d28b9f-92b1-47c8-f552-98a442a8eecc"
      },
      "source": [
        "def merge(array, start, mid, stop):\n",
        "\tlst = []\n",
        "\ti = start\n",
        "\tj = mid\n",
        "\n",
        "\twhile i < mid and j < stop:\n",
        "\t\tif array[i] < array [j]:\n",
        "\t\t\tlst.append(array[i])\n",
        "\t\t\ti+=1\n",
        "\t\telse:\n",
        "\t\t\tlst.append(array[j])\n",
        "\t\t\tj+=1\n",
        "\t# if element still in the left half\n",
        "\twhile i < mid:\n",
        "\t\tlst.append(array[i])\n",
        "\t\ti+=1\n",
        "\t#if element still in the right half\n",
        "\twhile j < stop:\n",
        "\t\tlst.append(array[j])\n",
        "\t\tj+=1\n",
        "\t#copy back to the array\n",
        "\tfor i in range(len(lst)):\n",
        "\t\tarray[start+i] = lst[i]\n",
        "\n",
        "def merge_sort_recursively(array, start, stop):\n",
        "\tif start >= stop-1:\n",
        "\t\treturn\n",
        "\t#len=5, start=0, end=5 => mid=2\n",
        "\tmid = (start+stop)//2\n",
        "\t#split the left half\n",
        "\tmerge_sort_recursively(array, start, mid)\n",
        "\t#split the right half\n",
        "\tmerge_sort_recursively(array, mid, stop)\n",
        "\t#merge the left with the right\n",
        "\tmerge(array, start, mid, stop)\n",
        "\n",
        "def merge_sort(array):\n",
        "\tmerge_sort_recursively(array, 0, len(array))\n",
        "\n",
        "def main():\n",
        "\tarray = [5,8,1,-1,2]\n",
        "\tprint(f'my array is {array}')\n",
        "\tmerge_sort(array)\n",
        "\tprint(f'my sorted array is {array}')\n",
        "\n",
        "if __name__=='__main__':\n",
        "\tmain()"
      ],
      "execution_count": 2,
      "outputs": [
        {
          "output_type": "stream",
          "text": [
            "my array is [5, 8, 1, -1, 2]\n",
            "my sorted array is [-1, 1, 2, 5, 8]\n"
          ],
          "name": "stdout"
        }
      ]
    },
    {
      "cell_type": "code",
      "metadata": {
        "id": "hIhbllMkzAhI",
        "colab_type": "code",
        "colab": {
          "base_uri": "https://localhost:8080/",
          "height": 34
        },
        "outputId": "f9da3d4b-b767-4926-b201-39f44a4784a9"
      },
      "source": [
        "def merge_sort_rec(A,start, end):\n",
        "  if start >= end:\n",
        "    return\n",
        "  mid =(start+end)//2\n",
        "  merge_sort_rec(A, start, mid)\n",
        "  merge_sort_rec(A, mid, end)\n",
        "  merge(A, start, mid, end)\n",
        "\n",
        "def merge(A, start, mid, end):\n",
        "  lst = []\n",
        "  i = start\n",
        "  j = mid\n",
        "  while i < mid and j < end:\n",
        "    if A[i]<A[j]:\n",
        "      lst.append(A[i])\n",
        "      i+=1\n",
        "    else:\n",
        "      lst.append(A[j])\n",
        "      j+=1\n",
        "  while i < mid:\n",
        "    lst.append(A[i])\n",
        "      i+=1\n",
        "  while j < end:\n",
        "    lst.append(A[j])\n",
        "      j+=1\n",
        "  return lst"
      ],
      "execution_count": 1,
      "outputs": [
        {
          "output_type": "execute_result",
          "data": {
            "text/plain": [
              "2"
            ]
          },
          "metadata": {
            "tags": []
          },
          "execution_count": 1
        }
      ]
    },
    {
      "cell_type": "code",
      "metadata": {
        "id": "8QLZHAndzCae",
        "colab_type": "code",
        "colab": {}
      },
      "source": [
        ""
      ],
      "execution_count": null,
      "outputs": []
    }
  ]
}