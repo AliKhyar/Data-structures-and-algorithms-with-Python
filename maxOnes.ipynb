{
  "nbformat": 4,
  "nbformat_minor": 0,
  "metadata": {
    "colab": {
      "name": "maxOnes.ipynb",
      "provenance": [],
      "authorship_tag": "ABX9TyNfINlO+QnV+T5aEo7YE5Ca",
      "include_colab_link": true
    },
    "kernelspec": {
      "name": "python3",
      "display_name": "Python 3"
    }
  },
  "cells": [
    {
      "cell_type": "markdown",
      "metadata": {
        "id": "view-in-github",
        "colab_type": "text"
      },
      "source": [
        "<a href=\"https://colab.research.google.com/github/AliKhyar/Data-structures-and-algorithms-with-Python/blob/master/maxOnes.ipynb\" target=\"_parent\"><img src=\"https://colab.research.google.com/assets/colab-badge.svg\" alt=\"Open In Colab\"/></a>"
      ]
    },
    {
      "cell_type": "code",
      "metadata": {
        "id": "UCz0RfTiMMLS",
        "colab_type": "code",
        "colab": {
          "base_uri": "https://localhost:8080/",
          "height": 51
        },
        "outputId": "eb6c8224-3b44-4cde-d38e-5cc4ba9282f1"
      },
      "source": [
        "def to_bin(n):\n",
        "    return bin(n)[2:]\n",
        "\n",
        "def max_ones(n_bin):\n",
        "    n_max = 0\n",
        "    check = 0\n",
        "    for nb in n_bin:\n",
        "        if nb == '1':\n",
        "            check += 1\n",
        "            if check > n_max:\n",
        "                n_max = check\n",
        "        else:\n",
        "            check = 0\n",
        "    return n_max\n",
        "\n",
        "\n",
        "if __name__ == '__main__':\n",
        "    n = int(input())\n",
        "    n_bin = to_bin(n)\n",
        "    print(max_ones(n_bin))\n",
        "    "
      ],
      "execution_count": 4,
      "outputs": [
        {
          "output_type": "stream",
          "text": [
            "12\n",
            "2\n"
          ],
          "name": "stdout"
        }
      ]
    },
    {
      "cell_type": "code",
      "metadata": {
        "id": "sASZEATQNLlG",
        "colab_type": "code",
        "colab": {}
      },
      "source": [
        ""
      ],
      "execution_count": 0,
      "outputs": []
    }
  ]
}