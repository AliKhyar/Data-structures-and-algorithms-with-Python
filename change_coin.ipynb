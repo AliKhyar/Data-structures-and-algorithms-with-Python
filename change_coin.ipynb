{
 "cells": [
  {
   "cell_type": "code",
   "execution_count": 11,
   "metadata": {},
   "outputs": [],
   "source": [
    "def coinChange(target, coins):\n",
    "    #base case\n",
    "    if target in coins:\n",
    "        return 1\n",
    "    #else\n",
    "    min_coins = target\n",
    "    # loop in list of coins inferior to target\n",
    "    for i in [c for c in coins if c<target]:\n",
    "        # exist coins => +1, pass target-change to the function\n",
    "        num_coins = 1 + coinChange(target-i, coins)\n",
    "        #is num of coins inf than the last target\n",
    "        if num_coins < min_coins:\n",
    "            #updatethe needed coins\n",
    "            min_coins = num_coins\n",
    "    return min_coins"
   ]
  },
  {
   "cell_type": "code",
   "execution_count": 12,
   "metadata": {},
   "outputs": [
    {
     "data": {
      "text/plain": [
       "1"
      ]
     },
     "execution_count": 12,
     "metadata": {},
     "output_type": "execute_result"
    }
   ],
   "source": [
    "coins = [1,1,1,4,7,10]\n",
    "target = 4\n",
    "coinChange(target,coins)"
   ]
  },
  {
   "cell_type": "code",
   "execution_count": 39,
   "metadata": {},
   "outputs": [],
   "source": [
    "def coinChangeDyn(target, coins, cache):\n",
    "    #base case\n",
    "    if target in coins:\n",
    "        cache[target] = 1\n",
    "        return 1\n",
    "    # else\n",
    "    min_coins = target\n",
    "    if cache[target] > 0:\n",
    "        return cache[target]\n",
    "    else:\n",
    "        for i in [c for c in coins if c<target]:\n",
    "            num_coins = 1 + coinChangeDyn(target-i, coins, cache)\n",
    "            if num_coins < min_coins:\n",
    "                min_coins = num_coins\n",
    "                # Reset the known result\n",
    "                cache[target] = min_coins\n",
    "    return min_coins"
   ]
  },
  {
   "cell_type": "code",
   "execution_count": 41,
   "metadata": {},
   "outputs": [
    {
     "data": {
      "text/plain": [
       "18"
      ]
     },
     "execution_count": 41,
     "metadata": {},
     "output_type": "execute_result"
    }
   ],
   "source": [
    "target = 158\n",
    "coins = [1,2,3,4,5,6,7,8,9]\n",
    "cache = [0]*(target+1)\n",
    "coinChangeDyn(target, coins, cache)"
   ]
  },
  {
   "cell_type": "code",
   "execution_count": null,
   "metadata": {},
   "outputs": [],
   "source": [
    "coinChange(target,coins)"
   ]
  },
  {
   "cell_type": "code",
   "execution_count": null,
   "metadata": {},
   "outputs": [],
   "source": []
  }
 ],
 "metadata": {
  "kernelspec": {
   "display_name": "Python 3",
   "language": "python",
   "name": "python3"
  },
  "language_info": {
   "codemirror_mode": {
    "name": "ipython",
    "version": 3
   },
   "file_extension": ".py",
   "mimetype": "text/x-python",
   "name": "python",
   "nbconvert_exporter": "python",
   "pygments_lexer": "ipython3",
   "version": "3.7.3"
  }
 },
 "nbformat": 4,
 "nbformat_minor": 2
}
