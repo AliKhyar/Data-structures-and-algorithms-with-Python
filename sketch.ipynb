{
  "nbformat": 4,
  "nbformat_minor": 0,
  "metadata": {
    "colab": {
      "name": "sketch.ipynb",
      "provenance": [],
      "authorship_tag": "ABX9TyMR8Wrk2+Z5UOLx5dU1h//5",
      "include_colab_link": true
    },
    "kernelspec": {
      "name": "python3",
      "display_name": "Python 3"
    }
  },
  "cells": [
    {
      "cell_type": "markdown",
      "metadata": {
        "id": "view-in-github",
        "colab_type": "text"
      },
      "source": [
        "<a href=\"https://colab.research.google.com/github/AliKhyar/Data-structures-and-algorithms-with-Python/blob/master/sketch.ipynb\" target=\"_parent\"><img src=\"https://colab.research.google.com/assets/colab-badge.svg\" alt=\"Open In Colab\"/></a>"
      ]
    },
    {
      "cell_type": "code",
      "metadata": {
        "id": "06ntTks8R0iz",
        "colab_type": "code",
        "colab": {}
      },
      "source": [
        "a = '12 13 14'"
      ],
      "execution_count": 0,
      "outputs": []
    },
    {
      "cell_type": "code",
      "metadata": {
        "id": "1nQEcyXRR3zo",
        "colab_type": "code",
        "colab": {
          "base_uri": "https://localhost:8080/",
          "height": 119
        },
        "outputId": "832b7dcb-5b69-49f6-e72e-59776ff383ba"
      },
      "source": [
        "class Person:\n",
        "\tdef __init__(self, firstName, lastName, idNumber):\n",
        "\t\tself.firstName = firstName\n",
        "\t\tself.lastName = lastName\n",
        "\t\tself.idNumber = idNumber\n",
        "\tdef printPerson(self):\n",
        "\t\tprint(\"Name:\", self.lastName + \",\", self.firstName)\n",
        "\t\tprint(\"ID:\", self.idNumber)\n",
        "\n",
        "class Student(Person):\n",
        "    #   Class Constructor\n",
        "    #   \n",
        "    #   Parameters:\n",
        "    #   firstName - A string denoting the Person's first name.\n",
        "    #   lastName - A string denoting the Person's last name.\n",
        "    #   id - An integer denoting the Person's ID number.\n",
        "    #   scores - An array of integers denoting the Person's test scores.\n",
        "    #\n",
        "    # Write your constructor here\n",
        "    \n",
        "    def __init__(self, firstName, lastName, idNumber, scores):\n",
        "        Person.__init__(self, firstName, lastName, idNumber)\n",
        "        self.scores = scores\n",
        "    #   Function Name: calculate\n",
        "    #   Return: A character denoting the grade.\n",
        "    #\n",
        "    # Write your function here\n",
        "    def calculate(self):\n",
        "        a = sum(self.scores)/numScores\n",
        "        if 90<= a <=100:\n",
        "            return 'O'\n",
        "        elif 80<= a <90:\n",
        "            return 'E'\n",
        "        elif 70<= a <80:\n",
        "            return 'A'\n",
        "        elif 55<= a <70:\n",
        "            return 'P'\n",
        "        elif 40<= a <=55:\n",
        "            return 'D'\n",
        "        elif a <=40:\n",
        "            return 'T'\n",
        "\n",
        "\n",
        "line = input().split()\n",
        "firstName = line[0]\n",
        "lastName = line[1]\n",
        "idNum = line[2]\n",
        "numScores = int(input()) # not needed for Python\n",
        "scores = list( map(int, input().split()) )\n",
        "s = Student(firstName, lastName, idNum, scores)\n",
        "s.printPerson()\n",
        "print(\"Grade:\", s.calculate())"
      ],
      "execution_count": 21,
      "outputs": [
        {
          "output_type": "stream",
          "text": [
            "Heraldo Memelli 8135627\n",
            "2\n",
            "15 45\n",
            "Name: Memelli, Heraldo\n",
            "ID: 8135627\n",
            "Grade: T\n"
          ],
          "name": "stdout"
        }
      ]
    },
    {
      "cell_type": "code",
      "metadata": {
        "id": "m6SQNCaGttGl",
        "colab_type": "code",
        "colab": {}
      },
      "source": [
        "def addTwoDigits(n):\n",
        "    a = str(n)\n",
        "    return int(a[0]) + int(a[1])"
      ],
      "execution_count": 0,
      "outputs": []
    },
    {
      "cell_type": "code",
      "metadata": {
        "id": "tMf2zztctyc-",
        "colab_type": "code",
        "colab": {
          "base_uri": "https://localhost:8080/",
          "height": 34
        },
        "outputId": "321e9eaf-9388-47c1-bbd1-d7a3213b9aea"
      },
      "source": [
        "addTwoDigits(12)"
      ],
      "execution_count": 25,
      "outputs": [
        {
          "output_type": "execute_result",
          "data": {
            "text/plain": [
              "3"
            ]
          },
          "metadata": {
            "tags": []
          },
          "execution_count": 25
        }
      ]
    },
    {
      "cell_type": "code",
      "metadata": {
        "id": "O1SBedpW4CGn",
        "colab_type": "code",
        "colab": {}
      },
      "source": [
        ""
      ],
      "execution_count": 0,
      "outputs": []
    }
  ]
}