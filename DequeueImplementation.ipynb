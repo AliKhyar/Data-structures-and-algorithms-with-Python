{
  "nbformat": 4,
  "nbformat_minor": 0,
  "metadata": {
    "colab": {
      "name": "DequeueImplementation.ipynb",
      "provenance": [],
      "authorship_tag": "ABX9TyNprRuuB7FriTCW0OWzqMqg",
      "include_colab_link": true
    },
    "kernelspec": {
      "name": "python3",
      "display_name": "Python 3"
    }
  },
  "cells": [
    {
      "cell_type": "markdown",
      "metadata": {
        "id": "view-in-github",
        "colab_type": "text"
      },
      "source": [
        "<a href=\"https://colab.research.google.com/github/AliKhyar/Data-structures-and-algorithms-with-Python/blob/master/DequeueImplementation.ipynb\" target=\"_parent\"><img src=\"https://colab.research.google.com/assets/colab-badge.svg\" alt=\"Open In Colab\"/></a>"
      ]
    },
    {
      "cell_type": "code",
      "metadata": {
        "id": "K9yoHjd6X2KM",
        "colab_type": "code",
        "colab": {}
      },
      "source": [
        "class Dequeue(object):\n",
        "  \n",
        "  def __init__(self):\n",
        "    self.dequeue = []\n",
        "\n",
        "  def isEmpty(self):\n",
        "    return self.dequeue == []\n",
        "  \n",
        "  def addFront(self,item):\n",
        "    self.dequeue.append(item)\n",
        "  \n",
        "  def addRear(self,item):\n",
        "    self.dequeue.insert(0,item)\n",
        "\n",
        "  def removeFront(self):\n",
        "    return self.dequeue.pop\n",
        "\n",
        "  def romoveRear(self):\n",
        "    return self.dequeue.pop(0)\n",
        "\n",
        "  def size(self):\n",
        "    return len(self.dequeue)"
      ],
      "execution_count": 0,
      "outputs": []
    },
    {
      "cell_type": "code",
      "metadata": {
        "id": "iLXiMXLui16g",
        "colab_type": "code",
        "colab": {
          "base_uri": "https://localhost:8080/",
          "height": 34
        },
        "outputId": "80d5e749-4f8b-4e73-f9bb-554854a1a627"
      },
      "source": [
        "d = Dequeue()\n",
        "d.addRear('hnj')\n",
        "d.addFront('Haha')\n",
        "d.addFront(15)\n",
        "d.addRear(15)\n",
        "d.size()"
      ],
      "execution_count": 4,
      "outputs": [
        {
          "output_type": "execute_result",
          "data": {
            "text/plain": [
              "4"
            ]
          },
          "metadata": {
            "tags": []
          },
          "execution_count": 4
        }
      ]
    },
    {
      "cell_type": "code",
      "metadata": {
        "id": "fL-k7KsLjsIU",
        "colab_type": "code",
        "colab": {}
      },
      "source": [
        ""
      ],
      "execution_count": 0,
      "outputs": []
    }
  ]
}