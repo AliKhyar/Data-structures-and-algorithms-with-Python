{
  "nbformat": 4,
  "nbformat_minor": 0,
  "metadata": {
    "colab": {
      "name": "BinaryTreeWithLists.ipynb",
      "provenance": [],
      "authorship_tag": "ABX9TyNU83EyBNz5JWM4sRFrRz0c",
      "include_colab_link": true
    },
    "kernelspec": {
      "name": "python3",
      "display_name": "Python 3"
    }
  },
  "cells": [
    {
      "cell_type": "markdown",
      "metadata": {
        "id": "view-in-github",
        "colab_type": "text"
      },
      "source": [
        "<a href=\"https://colab.research.google.com/github/AliKhyar/Data-structures-and-algorithms-with-Python/blob/master/BinaryTreeWithLists.ipynb\" target=\"_parent\"><img src=\"https://colab.research.google.com/assets/colab-badge.svg\" alt=\"Open In Colab\"/></a>"
      ]
    },
    {
      "cell_type": "code",
      "metadata": {
        "id": "-T0F7_SE1C8A",
        "colab_type": "code",
        "colab": {}
      },
      "source": [
        "class Binary(object):\n",
        "\n",
        "  def __init__(self,root):\n",
        "    self.root = [root,[],[]]\n",
        "\n",
        "  def insertLeftChild(self,newBranch):\n",
        "    t = self.root.pop(1)\n",
        "    if len(t) > 1:\n",
        "      self.root.insert(1,[newBranch,t, []])\n",
        "    else:\n",
        "      self.root.insert(1,[newBranch,[],[]])\n",
        "\n",
        "  def insertRightChild(self,newBranch):\n",
        "    t = self.root.pop(2)\n",
        "    if len(t) > 1:\n",
        "      self.root.insert(2,[newBranch,[], t])\n",
        "    else:\n",
        "      self.root.insert(2,[newBranch,[],[]])\n",
        "    \n",
        "  def getRootVal(self):\n",
        "    return self.root[0]\n",
        "  \n",
        "  def setRootVal(self, newVal):\n",
        "    self.root[0] = newVal\n",
        "  def getRightChild(self):\n",
        "    return self.root[1]\n",
        "  def getLeftChild(self):\n",
        "    return self.root[2]\n",
        "    "
      ],
      "execution_count": 0,
      "outputs": []
    },
    {
      "cell_type": "code",
      "metadata": {
        "id": "jzNiQmP01TSd",
        "colab_type": "code",
        "colab": {}
      },
      "source": [
        "r = Binary(15)"
      ],
      "execution_count": 0,
      "outputs": []
    },
    {
      "cell_type": "code",
      "metadata": {
        "id": "t1PMpJeg3V_u",
        "colab_type": "code",
        "colab": {
          "base_uri": "https://localhost:8080/",
          "height": 34
        },
        "outputId": "ca7d05d4-debf-4744-89f4-90b72b05236e"
      },
      "source": [
        "r.root"
      ],
      "execution_count": 23,
      "outputs": [
        {
          "output_type": "execute_result",
          "data": {
            "text/plain": [
              "[15, [], []]"
            ]
          },
          "metadata": {
            "tags": []
          },
          "execution_count": 23
        }
      ]
    },
    {
      "cell_type": "code",
      "metadata": {
        "id": "DLe-IOXa3X6o",
        "colab_type": "code",
        "colab": {}
      },
      "source": [
        "r.insertLeftChild(15)"
      ],
      "execution_count": 0,
      "outputs": []
    },
    {
      "cell_type": "code",
      "metadata": {
        "id": "doysZhj53jTZ",
        "colab_type": "code",
        "colab": {
          "base_uri": "https://localhost:8080/",
          "height": 34
        },
        "outputId": "6fdaf026-27af-44ae-cf75-f9a95eb302b8"
      },
      "source": [
        "r.root"
      ],
      "execution_count": 25,
      "outputs": [
        {
          "output_type": "execute_result",
          "data": {
            "text/plain": [
              "[15, [15, [], []], []]"
            ]
          },
          "metadata": {
            "tags": []
          },
          "execution_count": 25
        }
      ]
    },
    {
      "cell_type": "code",
      "metadata": {
        "id": "9T6C7upd3rft",
        "colab_type": "code",
        "colab": {
          "base_uri": "https://localhost:8080/",
          "height": 34
        },
        "outputId": "60d9fd05-4a9e-4453-a67c-2f53a5acedf6"
      },
      "source": [
        "r.insertLeftChild(18)\n",
        "r.root"
      ],
      "execution_count": 26,
      "outputs": [
        {
          "output_type": "execute_result",
          "data": {
            "text/plain": [
              "[15, [18, [15, [], []], []], []]"
            ]
          },
          "metadata": {
            "tags": []
          },
          "execution_count": 26
        }
      ]
    },
    {
      "cell_type": "code",
      "metadata": {
        "id": "6y-fD5eB3zrK",
        "colab_type": "code",
        "colab": {
          "base_uri": "https://localhost:8080/",
          "height": 34
        },
        "outputId": "0c1e58f9-234f-44f9-da60-8170094733d7"
      },
      "source": [
        "r.insertRightChild(0)\n",
        "r.root"
      ],
      "execution_count": 27,
      "outputs": [
        {
          "output_type": "execute_result",
          "data": {
            "text/plain": [
              "[15, [18, [15, [], []], []], [0, [], []]]"
            ]
          },
          "metadata": {
            "tags": []
          },
          "execution_count": 27
        }
      ]
    },
    {
      "cell_type": "code",
      "metadata": {
        "id": "13qbPMrR3-0D",
        "colab_type": "code",
        "colab": {}
      },
      "source": [
        ""
      ],
      "execution_count": 0,
      "outputs": []
    }
  ]
}