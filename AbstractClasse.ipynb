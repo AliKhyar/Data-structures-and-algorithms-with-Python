{
  "nbformat": 4,
  "nbformat_minor": 0,
  "metadata": {
    "colab": {
      "name": "AbstractClasse.ipynb",
      "provenance": [],
      "authorship_tag": "ABX9TyPOPW9uTXt2PUZNHDJ3NiDP",
      "include_colab_link": true
    },
    "kernelspec": {
      "name": "python3",
      "display_name": "Python 3"
    }
  },
  "cells": [
    {
      "cell_type": "markdown",
      "metadata": {
        "id": "view-in-github",
        "colab_type": "text"
      },
      "source": [
        "<a href=\"https://colab.research.google.com/github/AliKhyar/Data-structures-and-algorithms-with-Python/blob/master/AbstractClasse.ipynb\" target=\"_parent\"><img src=\"https://colab.research.google.com/assets/colab-badge.svg\" alt=\"Open In Colab\"/></a>"
      ]
    },
    {
      "cell_type": "code",
      "metadata": {
        "id": "skQye7LjTeRB",
        "colab_type": "code",
        "colab": {
          "base_uri": "https://localhost:8080/",
          "height": 119
        },
        "outputId": "e9f639a8-ebce-410d-801c-c884a03e3ec2"
      },
      "source": [
        "from abc import ABCMeta, abstractmethod\n",
        "class Book(object, metaclass=ABCMeta):\n",
        "    def __init__(self,title,author):\n",
        "        self.title=title\n",
        "        self.author=author   \n",
        "    @abstractmethod\n",
        "    def display(): pass\n",
        "\n",
        "#Write MyBook class\n",
        "class MyBook(Book):\n",
        "    def __init__(self,title,author,price):\n",
        "        super().__init__(title,author)\n",
        "        self.price = price\n",
        "    \n",
        "    def display(self):\n",
        "        print(f'Title: {self.title} \\nAuthor: {self.author} \\nPrice:{self.price}')\n",
        "\n",
        "title=input()\n",
        "author=input()\n",
        "price=int(input())\n",
        "new_novel=MyBook(title,author,price)\n",
        "new_novel.display()"
      ],
      "execution_count": 5,
      "outputs": [
        {
          "output_type": "stream",
          "text": [
            "haha\n",
            "ana\n",
            "15\n",
            "Title: haha \n",
            "Author: ana \n",
            "Price:15\n"
          ],
          "name": "stdout"
        }
      ]
    },
    {
      "cell_type": "code",
      "metadata": {
        "id": "ntsBcLAioGsW",
        "colab_type": "code",
        "colab": {}
      },
      "source": [
        ""
      ],
      "execution_count": 0,
      "outputs": []
    }
  ]
}