{
  "nbformat": 4,
  "nbformat_minor": 0,
  "metadata": {
    "colab": {
      "name": "getBSTHeight.ipynb",
      "provenance": [],
      "authorship_tag": "ABX9TyO9Chc3dmvPIhvwwU55ojtL",
      "include_colab_link": true
    },
    "kernelspec": {
      "name": "python3",
      "display_name": "Python 3"
    }
  },
  "cells": [
    {
      "cell_type": "markdown",
      "metadata": {
        "id": "view-in-github",
        "colab_type": "text"
      },
      "source": [
        "<a href=\"https://colab.research.google.com/github/AliKhyar/Data-structures-and-algorithms-with-Python/blob/master/getBSTHeight.ipynb\" target=\"_parent\"><img src=\"https://colab.research.google.com/assets/colab-badge.svg\" alt=\"Open In Colab\"/></a>"
      ]
    },
    {
      "cell_type": "code",
      "metadata": {
        "id": "Cv5h8kIi3M19",
        "colab_type": "code",
        "colab": {
          "base_uri": "https://localhost:8080/",
          "height": 173
        },
        "outputId": "0ef59cf5-77ac-4594-bf41-826d50700805"
      },
      "source": [
        "class Node:\n",
        "    def __init__(self,data):\n",
        "        self.right=self.left=None\n",
        "        self.data = data\n",
        "class Solution:\n",
        "    def insert(self,root,data):\n",
        "        if root==None:\n",
        "            return Node(data)\n",
        "        else:\n",
        "            if data<=root.data:\n",
        "                cur=self.insert(root.left,data)\n",
        "                root.left=cur\n",
        "            else:\n",
        "                cur=self.insert(root.right,data)\n",
        "                root.right=cur\n",
        "        return root\n",
        "\n",
        "    def getHeight(self,root):\n",
        "        return self.calcHeight(root) -1\n",
        "\n",
        "    def calcHeight(self,root):\n",
        "        #Write your code here\n",
        "        if root == None:\n",
        "          return 0\n",
        "        else:\n",
        "          return 1 + max(self.calcHeight(root.left), self.calcHeight(root.right))\n",
        "\n",
        "\n",
        "T=int(input())\n",
        "myTree=Solution()\n",
        "root=None\n",
        "for i in range(T):\n",
        "    data=int(input())\n",
        "    root=myTree.insert(root,data)\n",
        "height=myTree.getHeight(root)\n",
        "print(height)       "
      ],
      "execution_count": 3,
      "outputs": [
        {
          "output_type": "stream",
          "text": [
            "7\n",
            "3\n",
            "5\n",
            "2\n",
            "1\n",
            "4\n",
            "6\n",
            "7\n",
            "3\n"
          ],
          "name": "stdout"
        }
      ]
    },
    {
      "cell_type": "code",
      "metadata": {
        "id": "cBx5GVJGCfQP",
        "colab_type": "code",
        "colab": {}
      },
      "source": [
        "7\n",
        "3\n",
        "5\n",
        "2\n",
        "1\n",
        "4\n",
        "6\n",
        "7"
      ],
      "execution_count": 0,
      "outputs": []
    }
  ]
}