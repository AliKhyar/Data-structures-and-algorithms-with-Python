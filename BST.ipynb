{
  "nbformat": 4,
  "nbformat_minor": 0,
  "metadata": {
    "colab": {
      "name": "BST.ipynb",
      "provenance": [],
      "authorship_tag": "ABX9TyMQ0r6k7tzstMc/UyMUo6Qy",
      "include_colab_link": true
    },
    "kernelspec": {
      "name": "python3",
      "display_name": "Python 3"
    }
  },
  "cells": [
    {
      "cell_type": "markdown",
      "metadata": {
        "id": "view-in-github",
        "colab_type": "text"
      },
      "source": [
        "<a href=\"https://colab.research.google.com/github/AliKhyar/Data-structures-and-algorithms-with-Python/blob/master/BST.ipynb\" target=\"_parent\"><img src=\"https://colab.research.google.com/assets/colab-badge.svg\" alt=\"Open In Colab\"/></a>"
      ]
    },
    {
      "cell_type": "code",
      "metadata": {
        "id": "13qbPMrR3-0D",
        "colab_type": "code",
        "colab": {
          "base_uri": "https://localhost:8080/",
          "height": 51
        },
        "outputId": "8835b22f-0f60-44c2-d83a-4a9d6a473477"
      },
      "source": [
        "class Node(object):\n",
        "    def __init__(self, value):\n",
        "        self.value = value\n",
        "        self.left = None\n",
        "        self.right = None\n",
        "\n",
        "class BST(object):\n",
        "    def __init__(self, root):\n",
        "        self.root = Node(root)\n",
        "\n",
        "    def insert(self, new_val):\n",
        "        self.insert_helper(self.root, new_val)\n",
        "\n",
        "    def insert_helper(self, current, new_val):\n",
        "        if current.value < new_val:\n",
        "            if current.right:\n",
        "                self.insert_helper(current.right, new_val)\n",
        "            else:\n",
        "                current.right = Node(new_val)\n",
        "        else:\n",
        "            if current.left:\n",
        "                self.insert_helper(current.left, new_val)\n",
        "            else:\n",
        "                current.left = Node(new_val)\n",
        "\n",
        "    def search(self, find_val):\n",
        "        return self.search_helper(self.root, find_val)\n",
        "\n",
        "    def search_helper(self, current, find_val):\n",
        "        if current:\n",
        "            if current.value == find_val:\n",
        "                return True\n",
        "            elif current.value < find_val:\n",
        "                return self.search_helper(current.right, find_val)\n",
        "            else:\n",
        "                return self.search_helper(current.left, find_val)\n",
        "        return False\n",
        "    \n",
        "# Set up tree\n",
        "tree = BST(4)\n",
        "\n",
        "# Insert elements\n",
        "tree.insert(2)\n",
        "tree.insert(1)\n",
        "tree.insert(3)\n",
        "tree.insert(5)\n",
        "\n",
        "# Check search\n",
        "# Should be True\n",
        "print(tree.search(4))\n",
        "# Should be False\n",
        "print(tree.search(6))"
      ],
      "execution_count": 30,
      "outputs": [
        {
          "output_type": "stream",
          "text": [
            "True\n",
            "False\n"
          ],
          "name": "stdout"
        }
      ]
    },
    {
      "cell_type": "code",
      "metadata": {
        "id": "3kOIY0jl-JBD",
        "colab_type": "code",
        "colab": {}
      },
      "source": [
        ""
      ],
      "execution_count": 0,
      "outputs": []
    }
  ]
}