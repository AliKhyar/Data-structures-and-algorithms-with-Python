{
  "nbformat": 4,
  "nbformat_minor": 0,
  "metadata": {
    "colab": {
      "name": "BinarySearch.ipynb",
      "provenance": [],
      "authorship_tag": "ABX9TyPfaKTtwbXifMfOkTtxAhkB",
      "include_colab_link": true
    },
    "kernelspec": {
      "name": "python3",
      "display_name": "Python 3"
    }
  },
  "cells": [
    {
      "cell_type": "markdown",
      "metadata": {
        "id": "view-in-github",
        "colab_type": "text"
      },
      "source": [
        "<a href=\"https://colab.research.google.com/github/AliKhyar/Data-structures-and-algorithms-with-Python/blob/master/BinarySearch.ipynb\" target=\"_parent\"><img src=\"https://colab.research.google.com/assets/colab-badge.svg\" alt=\"Open In Colab\"/></a>"
      ]
    },
    {
      "cell_type": "code",
      "metadata": {
        "id": "skQye7LjTeRB",
        "colab_type": "code",
        "colab": {
          "base_uri": "https://localhost:8080/",
          "height": 51
        },
        "outputId": "e30ade58-b43b-4af9-ccf3-deeee4b126f9"
      },
      "source": [
        "def binary_search(input_array, value):\n",
        "    if len(input_array) == 0:\n",
        "      return -1\n",
        "    start = 0\n",
        "    end = len(input_array)\n",
        "    mid = end // 2\n",
        "    if value == input_array[mid]:\n",
        "      return 1\n",
        "    elif value > input_array[mid] :\n",
        "      start = mid + 1\n",
        "      return binary_search(input_array[start:end], value)\n",
        "    elif value < input_array[mid] :\n",
        "      end = mid\n",
        "      return binary_search(input_array[start:end], value)\n",
        "i = 0\n",
        "test_list = [1,3,9,11,15,19,29]\n",
        "test_val1 = 25\n",
        "test_val2 = 15\n",
        "print(binary_search(test_list, test_val1))\n",
        "print(binary_search(test_list, test_val2))"
      ],
      "execution_count": 1,
      "outputs": [
        {
          "output_type": "stream",
          "text": [
            "-1\n",
            "1\n"
          ],
          "name": "stdout"
        }
      ]
    }
  ]
}