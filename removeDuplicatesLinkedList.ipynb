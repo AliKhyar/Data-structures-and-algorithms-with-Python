{
  "nbformat": 4,
  "nbformat_minor": 0,
  "metadata": {
    "colab": {
      "name": "removeDuplicatesLinkedList",
      "provenance": [],
      "authorship_tag": "ABX9TyNV1YxkjP4CjC7UXIW4Bpo/",
      "include_colab_link": true
    },
    "kernelspec": {
      "name": "python3",
      "display_name": "Python 3"
    }
  },
  "cells": [
    {
      "cell_type": "markdown",
      "metadata": {
        "id": "view-in-github",
        "colab_type": "text"
      },
      "source": [
        "<a href=\"https://colab.research.google.com/github/AliKhyar/Data-structures-and-algorithms-with-Python/blob/master/removeDuplicatesLinkedList.ipynb\" target=\"_parent\"><img src=\"https://colab.research.google.com/assets/colab-badge.svg\" alt=\"Open In Colab\"/></a>"
      ]
    },
    {
      "cell_type": "code",
      "metadata": {
        "id": "BsC72oX3PEHm",
        "colab_type": "code",
        "colab": {
          "base_uri": "https://localhost:8080/",
          "height": 156
        },
        "outputId": "513ab838-aa88-40e0-b136-85f3e09468d3"
      },
      "source": [
        "class Node:\n",
        "    def __init__(self,data):\n",
        "        self.data = data\n",
        "        self.next = None \n",
        "class Solution: \n",
        "    def insert(self,head,data):\n",
        "            p = Node(data)           \n",
        "            if head==None:\n",
        "                head=p\n",
        "            elif head.next==None:\n",
        "                head.next=p\n",
        "            else:\n",
        "                start=head\n",
        "                while(start.next!=None):\n",
        "                    start=start.next\n",
        "                start.next=p\n",
        "            return head  \n",
        "    def display(self,head):\n",
        "        current = head\n",
        "        while current:\n",
        "            print(current.data,end=' ')\n",
        "            current = current.next\n",
        "\n",
        "    def removeDuplicates(self,head):\n",
        "        #Write your code here\n",
        "        if head == None:\n",
        "            return\n",
        "        temp = head\n",
        "        while temp.next != None:\n",
        "            if temp.data == temp.next.data:\n",
        "                new = temp.next.next\n",
        "                temp.next = new\n",
        "            else: \n",
        "                temp = temp.next\n",
        "        return head\n",
        "            \n",
        "\n",
        "\n",
        "mylist= Solution()\n",
        "T=int(input())\n",
        "head=None\n",
        "for i in range(T):\n",
        "    data=int(input())\n",
        "    head=mylist.insert(head,data)    \n",
        "head=mylist.removeDuplicates(head)\n",
        "mylist.display(head); "
      ],
      "execution_count": 13,
      "outputs": [
        {
          "output_type": "stream",
          "text": [
            "6\n",
            "1\n",
            "2\n",
            "2\n",
            "3\n",
            "3\n",
            "4\n",
            "1 2 3 4 "
          ],
          "name": "stdout"
        }
      ]
    },
    {
      "cell_type": "code",
      "metadata": {
        "id": "_uwmnRLPBJxZ",
        "colab_type": "code",
        "colab": {}
      },
      "source": [
        "    6\n",
        "    1\n",
        "    2\n",
        "    2\n",
        "    3\n",
        "    3\n",
        "    4"
      ],
      "execution_count": 0,
      "outputs": []
    }
  ]
}