{
  "nbformat": 4,
  "nbformat_minor": 0,
  "metadata": {
    "colab": {
      "name": "LinkedList2.ipynb",
      "provenance": [],
      "authorship_tag": "ABX9TyM7jT9EF/NcnNgM0jY2VoPM",
      "include_colab_link": true
    },
    "kernelspec": {
      "name": "python3",
      "display_name": "Python 3"
    }
  },
  "cells": [
    {
      "cell_type": "markdown",
      "metadata": {
        "id": "view-in-github",
        "colab_type": "text"
      },
      "source": [
        "<a href=\"https://colab.research.google.com/github/AliKhyar/Data-structures-and-algorithms-with-Python/blob/master/LinkedList2.ipynb\" target=\"_parent\"><img src=\"https://colab.research.google.com/assets/colab-badge.svg\" alt=\"Open In Colab\"/></a>"
      ]
    },
    {
      "cell_type": "code",
      "metadata": {
        "id": "ak3PAqUAq6gX",
        "colab_type": "code",
        "colab": {
          "base_uri": "https://localhost:8080/",
          "height": 102
        },
        "outputId": "cf0f83bc-fb17-461c-cb09-9206ddabcf2d"
      },
      "source": [
        "class Node:\n",
        "    def __init__(self,data):\n",
        "        self.data = data\n",
        "        self.next = None \n",
        "class Solution: \n",
        "    def display(self,head):\n",
        "        current = head\n",
        "        while current:\n",
        "            print(current.data,end=' ')\n",
        "            current = current.next\n",
        "\n",
        "    def insert(self,head,data):\n",
        "    #Complete this method\n",
        "        node = Node(data)\n",
        "        if head == None:\n",
        "            head = node\n",
        "        else:\n",
        "          current = head\n",
        "          while current.next:\n",
        "            current = current.next\n",
        "          current.next = node\n",
        "        return head\n",
        "\n",
        "\n",
        "mylist= Solution()\n",
        "T=int(input())\n",
        "head=None\n",
        "for i in range(T):\n",
        "    data=int(input())\n",
        "    head=mylist.insert(head,data)    \n",
        "mylist.display(head); \t  "
      ],
      "execution_count": 7,
      "outputs": [
        {
          "output_type": "stream",
          "text": [
            "3\n",
            "7\n",
            "5\n",
            "3\n",
            "7 5 3 "
          ],
          "name": "stdout"
        }
      ]
    },
    {
      "cell_type": "code",
      "metadata": {
        "id": "NZjh4mgC1Zsl",
        "colab_type": "code",
        "colab": {}
      },
      "source": [
        ""
      ],
      "execution_count": 0,
      "outputs": []
    }
  ]
}